{
 "cells": [
  {
   "cell_type": "markdown",
   "metadata": {},
   "source": [
    "<h3>Using pandas for data processing, numpy, sklearn for split train and test and created package called learn</h3>"
   ]
  },
  {
   "cell_type": "code",
   "execution_count": 1,
   "metadata": {},
   "outputs": [],
   "source": [
    "import pandas as pd\n",
    "import numpy as np\n",
    "from sklearn.model_selection import train_test_split\n",
    "from learn.classifier import KNN\n",
    "from learn.decomposition import PCA\n",
    "from learn.metrics import accuracy\n",
    "from learn.preprocessing import MinMaxScaler"
   ]
  },
  {
   "cell_type": "markdown",
   "metadata": {},
   "source": [
    "<br/>\n",
    "Original data contains 1000 audio tracks with 10 genres (100 tracks each genre) and 91 columns (consist of 90 extracted feature and 1 Target / label / genre)."
   ]
  },
  {
   "cell_type": "code",
   "execution_count": 2,
   "metadata": {},
   "outputs": [
    {
     "name": "stdout",
     "output_type": "stream",
     "text": [
      "(1000, 91)\n"
     ]
    }
   ],
   "source": [
    "df = pd.read_csv('./data/genres.csv')\n",
    "print(df.shape)"
   ]
  },
  {
   "cell_type": "code",
   "execution_count": 3,
   "metadata": {},
   "outputs": [
    {
     "data": {
      "text/plain": [
       "array(['blues', 'classical', 'country', 'disco', 'hiphop', 'jazz',\n",
       "       'metal', 'pop', 'reggae', 'rock'], dtype=object)"
      ]
     },
     "execution_count": 3,
     "metadata": {},
     "output_type": "execute_result"
    }
   ],
   "source": [
    "df['Target'].unique()"
   ]
  },
  {
   "cell_type": "code",
   "execution_count": 4,
   "metadata": {},
   "outputs": [
    {
     "data": {
      "text/plain": [
       "Index(['chroma_stft_mean_1', 'chroma_stft_mean_2', 'chroma_stft_mean_3',\n",
       "       'chroma_stft_mean_4', 'chroma_stft_mean_5', 'chroma_stft_mean_6',\n",
       "       'chroma_stft_mean_7', 'chroma_stft_mean_8', 'chroma_stft_mean_9',\n",
       "       'chroma_stft_mean_10', 'chroma_stft_mean_11', 'chroma_stft_mean_12',\n",
       "       'chroma_stft_std_1', 'chroma_stft_std_2', 'chroma_stft_std_3',\n",
       "       'chroma_stft_std_4', 'chroma_stft_std_5', 'chroma_stft_std_6',\n",
       "       'chroma_stft_std_7', 'chroma_stft_std_8', 'chroma_stft_std_9',\n",
       "       'chroma_stft_std_10', 'chroma_stft_std_11', 'chroma_stft_std_12',\n",
       "       'chroma_cqt_mean_1', 'chroma_cqt_mean_2', 'chroma_cqt_mean_3',\n",
       "       'chroma_cqt_mean_4', 'chroma_cqt_mean_5', 'chroma_cqt_mean_6',\n",
       "       'chroma_cqt_mean_7', 'chroma_cqt_mean_8', 'chroma_cqt_mean_9',\n",
       "       'chroma_cqt_mean_10', 'chroma_cqt_mean_11', 'chroma_cqt_mean_12',\n",
       "       'chroma_cqt_std_1', 'chroma_cqt_std_2', 'chroma_cqt_std_3',\n",
       "       'chroma_cqt_std_4', 'chroma_cqt_std_5', 'chroma_cqt_std_6',\n",
       "       'chroma_cqt_std_7', 'chroma_cqt_std_8', 'chroma_cqt_std_9',\n",
       "       'chroma_cqt_std_10', 'chroma_cqt_std_11', 'chroma_cqt_std_12',\n",
       "       'spectral_bandwidth_mean_1', 'spectral_bandwidth_std_1',\n",
       "       'spectral_contrast_mean_1', 'spectral_contrast_mean_2',\n",
       "       'spectral_contrast_mean_3', 'spectral_contrast_mean_4',\n",
       "       'spectral_contrast_mean_5', 'spectral_contrast_mean_6',\n",
       "       'spectral_contrast_mean_7', 'spectral_contrast_std_1',\n",
       "       'spectral_contrast_std_2', 'spectral_contrast_std_3',\n",
       "       'spectral_contrast_std_4', 'spectral_contrast_std_5',\n",
       "       'spectral_contrast_std_6', 'spectral_contrast_std_7',\n",
       "       'spectral_rolloff_mean_1', 'spectral_rolloff_std_1', 'mfcc_mean_1',\n",
       "       'mfcc_mean_2', 'mfcc_mean_3', 'mfcc_mean_4', 'mfcc_mean_5',\n",
       "       'mfcc_mean_6', 'mfcc_mean_7', 'mfcc_mean_8', 'mfcc_mean_9',\n",
       "       'mfcc_mean_10', 'mfcc_mean_11', 'mfcc_mean_12', 'mfcc_std_1',\n",
       "       'mfcc_std_2', 'mfcc_std_3', 'mfcc_std_4', 'mfcc_std_5', 'mfcc_std_6',\n",
       "       'mfcc_std_7', 'mfcc_std_8', 'mfcc_std_9', 'mfcc_std_10', 'mfcc_std_11',\n",
       "       'mfcc_std_12', 'Target'],\n",
       "      dtype='object')"
      ]
     },
     "execution_count": 4,
     "metadata": {},
     "output_type": "execute_result"
    }
   ],
   "source": [
    "df.columns"
   ]
  },
  {
   "cell_type": "markdown",
   "metadata": {},
   "source": [
    "<br/>\n",
    "We want to get best combination of genres, because using all genres produce bad accuracy. For each combination of genres, we tested the accuracy. Accuracy calculated with KNN classifier, but before fit to model, we normalize data using MinMaxScaler (created in learn package) and transform the data with PCA. Transformed data contains only 3 columns/features."
   ]
  },
  {
   "cell_type": "code",
   "execution_count": 5,
   "metadata": {},
   "outputs": [],
   "source": [
    "def test_accuracies(genres):\n",
    "    df_selected = df[df['Target'].isin(genres)]\n",
    "    X = df_selected.drop(columns=\"Target\")\n",
    "    y = df_selected[\"Target\"]\n",
    "    X_train, X_test, y_train, y_test = train_test_split(X, y, test_size=0.3, random_state=42)\n",
    "    \n",
    "    scaler = MinMaxScaler()\n",
    "    X_train = scaler.fit_transform(X_train)\n",
    "    X_test = scaler.transform(X_test)\n",
    "    \n",
    "    pca = PCA(n_components=3)\n",
    "    X_train = pca.fit_transform(X_train)\n",
    "    X_test = pca.transform(X_test)\n",
    "    \n",
    "    clf = KNN(k=len(genres))\n",
    "    clf.fit(X_train, y_train)\n",
    "    y_pred = clf.predict(X_test)\n",
    "    acc = round(accuracy(y_test, y_pred) * 100, 3)\n",
    "    print(\"Accuracy : {0}%,\\tgenres : {1}\".format(acc, \", \".join(genres)))"
   ]
  },
  {
   "cell_type": "markdown",
   "metadata": {},
   "source": [
    "<br/>\n",
    "Experiments for testing each combination of genres"
   ]
  },
  {
   "cell_type": "code",
   "execution_count": 6,
   "metadata": {},
   "outputs": [],
   "source": [
    "all_genres = np.array([\n",
    "    'blues', \n",
    "    'classical', \n",
    "    'country', \n",
    "    'disco', \n",
    "    'hiphop', \n",
    "    'jazz',\n",
    "    'metal', \n",
    "    'pop', \n",
    "    'reggae', \n",
    "    'rock'\n",
    "])"
   ]
  },
  {
   "cell_type": "code",
   "execution_count": 7,
   "metadata": {},
   "outputs": [
    {
     "name": "stdout",
     "output_type": "stream",
     "text": [
      "Accuracy : 37.0%,\tgenres : blues, classical, country, disco, hiphop, jazz, metal, pop, reggae, rock\n",
      "Accuracy : 41.852%,\tgenres : blues, classical, country, disco, hiphop, jazz, metal, pop, reggae\n",
      "Accuracy : 47.5%,\tgenres : blues, classical, country, disco, hiphop, jazz, metal, pop\n",
      "Accuracy : 47.619%,\tgenres : blues, classical, country, disco, hiphop, jazz, metal\n",
      "Accuracy : 52.222%,\tgenres : blues, classical, country, disco, hiphop, jazz\n",
      "Accuracy : 51.667%,\tgenres : blues, classical, country, disco, jazz, metal\n",
      "Accuracy : 79.333%,\tgenres : classical, country, hiphop, jazz, metal\n",
      "Accuracy : 87.5%,\tgenres : classical, country, hiphop, metal\n",
      "Accuracy : 61.667%,\tgenres : blues, classical, country, jazz, metal, pop\n",
      "Accuracy : 45.0%,\tgenres : disco, hiphop, jazz, pop, reggae, rock\n",
      "Accuracy : 40.952%,\tgenres : country, disco, hiphop, jazz, pop, reggae, rock\n"
     ]
    }
   ],
   "source": [
    "genres_combination = [\n",
    "    list(all_genres[[0, 1, 2, 3, 4, 5, 6, 7, 8, 9]]),\n",
    "    list(all_genres[[0, 1, 2, 3, 4, 5, 6, 7, 8]]),\n",
    "    list(all_genres[[0, 1, 2, 3, 4, 5, 6, 7]]),\n",
    "    list(all_genres[[0, 1, 2, 3, 4, 5, 6]]),\n",
    "    list(all_genres[[0, 1, 2, 3, 4, 5]]),\n",
    "    list(all_genres[[0, 1, 2, 3, 5, 6]]),\n",
    "    list(all_genres[[1, 2, 4, 5, 6]]),\n",
    "    list(all_genres[[1, 2, 4, 6]]),\n",
    "    list(all_genres[[0, 1, 2, 5, 6, 7]]),\n",
    "    list(all_genres[[3, 4, 5, 7, 8, 9]]),\n",
    "    list(all_genres[[2, 3, 4, 5, 7, 8, 9]]),\n",
    "]\n",
    "\n",
    "for genre in genres_combination:\n",
    "    test_accuracies(genre)"
   ]
  },
  {
   "cell_type": "markdown",
   "metadata": {},
   "source": [
    "<br/>\n",
    "Best accuracy is when only using classical, country, hiphop, metal "
   ]
  },
  {
   "cell_type": "code",
   "execution_count": 8,
   "metadata": {},
   "outputs": [
    {
     "data": {
      "text/plain": [
       "(400, 91)"
      ]
     },
     "execution_count": 8,
     "metadata": {},
     "output_type": "execute_result"
    }
   ],
   "source": [
    "df_final = df[df['Target'].isin(['classical', 'country', 'hiphop', 'metal'])]\n",
    "df_final.shape"
   ]
  },
  {
   "cell_type": "code",
   "execution_count": 9,
   "metadata": {},
   "outputs": [
    {
     "ename": "PermissionError",
     "evalue": "[Errno 13] Permission denied: './data/final_genres.csv'",
     "output_type": "error",
     "traceback": [
      "\u001b[1;31m---------------------------------------------------------------------------\u001b[0m",
      "\u001b[1;31mPermissionError\u001b[0m                           Traceback (most recent call last)",
      "\u001b[1;32m<ipython-input-9-9814ec99306f>\u001b[0m in \u001b[0;36m<module>\u001b[1;34m\u001b[0m\n\u001b[1;32m----> 1\u001b[1;33m \u001b[0mdf_final\u001b[0m\u001b[1;33m.\u001b[0m\u001b[0mto_csv\u001b[0m\u001b[1;33m(\u001b[0m\u001b[1;34m'./data/final_genres.csv'\u001b[0m\u001b[1;33m,\u001b[0m \u001b[0mindex\u001b[0m\u001b[1;33m=\u001b[0m\u001b[1;32mFalse\u001b[0m\u001b[1;33m)\u001b[0m\u001b[1;33m\u001b[0m\u001b[1;33m\u001b[0m\u001b[0m\n\u001b[0m",
      "\u001b[1;32mc:\\programdata\\miniconda3\\lib\\site-packages\\pandas\\core\\generic.py\u001b[0m in \u001b[0;36mto_csv\u001b[1;34m(self, path_or_buf, sep, na_rep, float_format, columns, header, index, index_label, mode, encoding, compression, quoting, quotechar, line_terminator, chunksize, date_format, doublequote, escapechar, decimal)\u001b[0m\n\u001b[0;32m   3202\u001b[0m             \u001b[0mdecimal\u001b[0m\u001b[1;33m=\u001b[0m\u001b[0mdecimal\u001b[0m\u001b[1;33m,\u001b[0m\u001b[1;33m\u001b[0m\u001b[1;33m\u001b[0m\u001b[0m\n\u001b[0;32m   3203\u001b[0m         )\n\u001b[1;32m-> 3204\u001b[1;33m         \u001b[0mformatter\u001b[0m\u001b[1;33m.\u001b[0m\u001b[0msave\u001b[0m\u001b[1;33m(\u001b[0m\u001b[1;33m)\u001b[0m\u001b[1;33m\u001b[0m\u001b[1;33m\u001b[0m\u001b[0m\n\u001b[0m\u001b[0;32m   3205\u001b[0m \u001b[1;33m\u001b[0m\u001b[0m\n\u001b[0;32m   3206\u001b[0m         \u001b[1;32mif\u001b[0m \u001b[0mpath_or_buf\u001b[0m \u001b[1;32mis\u001b[0m \u001b[1;32mNone\u001b[0m\u001b[1;33m:\u001b[0m\u001b[1;33m\u001b[0m\u001b[1;33m\u001b[0m\u001b[0m\n",
      "\u001b[1;32mc:\\programdata\\miniconda3\\lib\\site-packages\\pandas\\io\\formats\\csvs.py\u001b[0m in \u001b[0;36msave\u001b[1;34m(self)\u001b[0m\n\u001b[0;32m    186\u001b[0m                 \u001b[0mself\u001b[0m\u001b[1;33m.\u001b[0m\u001b[0mmode\u001b[0m\u001b[1;33m,\u001b[0m\u001b[1;33m\u001b[0m\u001b[1;33m\u001b[0m\u001b[0m\n\u001b[0;32m    187\u001b[0m                 \u001b[0mencoding\u001b[0m\u001b[1;33m=\u001b[0m\u001b[0mself\u001b[0m\u001b[1;33m.\u001b[0m\u001b[0mencoding\u001b[0m\u001b[1;33m,\u001b[0m\u001b[1;33m\u001b[0m\u001b[1;33m\u001b[0m\u001b[0m\n\u001b[1;32m--> 188\u001b[1;33m                 \u001b[0mcompression\u001b[0m\u001b[1;33m=\u001b[0m\u001b[0mdict\u001b[0m\u001b[1;33m(\u001b[0m\u001b[0mself\u001b[0m\u001b[1;33m.\u001b[0m\u001b[0mcompression_args\u001b[0m\u001b[1;33m,\u001b[0m \u001b[0mmethod\u001b[0m\u001b[1;33m=\u001b[0m\u001b[0mself\u001b[0m\u001b[1;33m.\u001b[0m\u001b[0mcompression\u001b[0m\u001b[1;33m)\u001b[0m\u001b[1;33m,\u001b[0m\u001b[1;33m\u001b[0m\u001b[1;33m\u001b[0m\u001b[0m\n\u001b[0m\u001b[0;32m    189\u001b[0m             )\n\u001b[0;32m    190\u001b[0m             \u001b[0mclose\u001b[0m \u001b[1;33m=\u001b[0m \u001b[1;32mTrue\u001b[0m\u001b[1;33m\u001b[0m\u001b[1;33m\u001b[0m\u001b[0m\n",
      "\u001b[1;32mc:\\programdata\\miniconda3\\lib\\site-packages\\pandas\\io\\common.py\u001b[0m in \u001b[0;36mget_handle\u001b[1;34m(path_or_buf, mode, encoding, compression, memory_map, is_text)\u001b[0m\n\u001b[0;32m    426\u001b[0m         \u001b[1;32mif\u001b[0m \u001b[0mencoding\u001b[0m\u001b[1;33m:\u001b[0m\u001b[1;33m\u001b[0m\u001b[1;33m\u001b[0m\u001b[0m\n\u001b[0;32m    427\u001b[0m             \u001b[1;31m# Encoding\u001b[0m\u001b[1;33m\u001b[0m\u001b[1;33m\u001b[0m\u001b[1;33m\u001b[0m\u001b[0m\n\u001b[1;32m--> 428\u001b[1;33m             \u001b[0mf\u001b[0m \u001b[1;33m=\u001b[0m \u001b[0mopen\u001b[0m\u001b[1;33m(\u001b[0m\u001b[0mpath_or_buf\u001b[0m\u001b[1;33m,\u001b[0m \u001b[0mmode\u001b[0m\u001b[1;33m,\u001b[0m \u001b[0mencoding\u001b[0m\u001b[1;33m=\u001b[0m\u001b[0mencoding\u001b[0m\u001b[1;33m,\u001b[0m \u001b[0mnewline\u001b[0m\u001b[1;33m=\u001b[0m\u001b[1;34m\"\"\u001b[0m\u001b[1;33m)\u001b[0m\u001b[1;33m\u001b[0m\u001b[1;33m\u001b[0m\u001b[0m\n\u001b[0m\u001b[0;32m    429\u001b[0m         \u001b[1;32melif\u001b[0m \u001b[0mis_text\u001b[0m\u001b[1;33m:\u001b[0m\u001b[1;33m\u001b[0m\u001b[1;33m\u001b[0m\u001b[0m\n\u001b[0;32m    430\u001b[0m             \u001b[1;31m# No explicit encoding\u001b[0m\u001b[1;33m\u001b[0m\u001b[1;33m\u001b[0m\u001b[1;33m\u001b[0m\u001b[0m\n",
      "\u001b[1;31mPermissionError\u001b[0m: [Errno 13] Permission denied: './data/final_genres.csv'"
     ]
    }
   ],
   "source": [
    "df_final.to_csv('./data/final_genres.csv', index=False)"
   ]
  },
  {
   "cell_type": "code",
   "execution_count": null,
   "metadata": {},
   "outputs": [],
   "source": []
  }
 ],
 "metadata": {
  "kernelspec": {
   "display_name": "Python 3",
   "language": "python",
   "name": "python3"
  },
  "language_info": {
   "codemirror_mode": {
    "name": "ipython",
    "version": 3
   },
   "file_extension": ".py",
   "mimetype": "text/x-python",
   "name": "python",
   "nbconvert_exporter": "python",
   "pygments_lexer": "ipython3",
   "version": "3.7.6"
  }
 },
 "nbformat": 4,
 "nbformat_minor": 2
}
