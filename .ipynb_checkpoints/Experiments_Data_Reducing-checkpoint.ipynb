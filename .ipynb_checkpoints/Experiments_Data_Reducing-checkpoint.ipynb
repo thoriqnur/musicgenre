{
 "cells": [
  {
   "cell_type": "markdown",
   "metadata": {},
   "source": [
    "<h3>Using pandas for data processing, numpy, sklearn for split train and test and created package called learn</h3>"
   ]
  },
  {
   "cell_type": "code",
   "execution_count": 1,
   "metadata": {},
   "outputs": [],
   "source": [
    "import pandas as pd\n",
    "import numpy as np\n",
    "from sklearn.model_selection import train_test_split\n",
    "from learn.classifier import NaiveBayes\n",
    "from learn.decomposition import PCA\n",
    "from learn.metrics import accuracy\n",
    "from learn.preprocessing import MinMaxScaler"
   ]
  },
  {
   "cell_type": "markdown",
   "metadata": {},
   "source": [
    "<br/>\n",
    "Original data contains 1000 audio tracks with 10 genres (100 tracks each genre) and 91 columns (consist of 90 extracted feature and 1 Target / label / genre)."
   ]
  },
  {
   "cell_type": "code",
   "execution_count": 2,
   "metadata": {},
   "outputs": [
    {
     "name": "stdout",
     "output_type": "stream",
     "text": [
      "(1000, 91)\n"
     ]
    }
   ],
   "source": [
    "df = pd.read_csv('./data/genres.csv')\n",
    "print(df.shape)"
   ]
  },
  {
   "cell_type": "code",
   "execution_count": 3,
   "metadata": {},
   "outputs": [
    {
     "data": {
      "text/plain": [
       "array(['blues', 'classical', 'country', 'disco', 'hiphop', 'jazz',\n",
       "       'metal', 'pop', 'reggae', 'rock'], dtype=object)"
      ]
     },
     "execution_count": 3,
     "metadata": {},
     "output_type": "execute_result"
    }
   ],
   "source": [
    "df['Target'].unique()"
   ]
  },
  {
   "cell_type": "code",
   "execution_count": 4,
   "metadata": {},
   "outputs": [
    {
     "data": {
      "text/plain": [
       "Index(['chroma_stft_mean_1', 'chroma_stft_mean_2', 'chroma_stft_mean_3',\n",
       "       'chroma_stft_mean_4', 'chroma_stft_mean_5', 'chroma_stft_mean_6',\n",
       "       'chroma_stft_mean_7', 'chroma_stft_mean_8', 'chroma_stft_mean_9',\n",
       "       'chroma_stft_mean_10', 'chroma_stft_mean_11', 'chroma_stft_mean_12',\n",
       "       'chroma_stft_std_1', 'chroma_stft_std_2', 'chroma_stft_std_3',\n",
       "       'chroma_stft_std_4', 'chroma_stft_std_5', 'chroma_stft_std_6',\n",
       "       'chroma_stft_std_7', 'chroma_stft_std_8', 'chroma_stft_std_9',\n",
       "       'chroma_stft_std_10', 'chroma_stft_std_11', 'chroma_stft_std_12',\n",
       "       'chroma_cqt_mean_1', 'chroma_cqt_mean_2', 'chroma_cqt_mean_3',\n",
       "       'chroma_cqt_mean_4', 'chroma_cqt_mean_5', 'chroma_cqt_mean_6',\n",
       "       'chroma_cqt_mean_7', 'chroma_cqt_mean_8', 'chroma_cqt_mean_9',\n",
       "       'chroma_cqt_mean_10', 'chroma_cqt_mean_11', 'chroma_cqt_mean_12',\n",
       "       'chroma_cqt_std_1', 'chroma_cqt_std_2', 'chroma_cqt_std_3',\n",
       "       'chroma_cqt_std_4', 'chroma_cqt_std_5', 'chroma_cqt_std_6',\n",
       "       'chroma_cqt_std_7', 'chroma_cqt_std_8', 'chroma_cqt_std_9',\n",
       "       'chroma_cqt_std_10', 'chroma_cqt_std_11', 'chroma_cqt_std_12',\n",
       "       'spectral_bandwidth_mean_1', 'spectral_bandwidth_std_1',\n",
       "       'spectral_contrast_mean_1', 'spectral_contrast_mean_2',\n",
       "       'spectral_contrast_mean_3', 'spectral_contrast_mean_4',\n",
       "       'spectral_contrast_mean_5', 'spectral_contrast_mean_6',\n",
       "       'spectral_contrast_mean_7', 'spectral_contrast_std_1',\n",
       "       'spectral_contrast_std_2', 'spectral_contrast_std_3',\n",
       "       'spectral_contrast_std_4', 'spectral_contrast_std_5',\n",
       "       'spectral_contrast_std_6', 'spectral_contrast_std_7',\n",
       "       'spectral_rolloff_mean_1', 'spectral_rolloff_std_1', 'mfcc_mean_1',\n",
       "       'mfcc_mean_2', 'mfcc_mean_3', 'mfcc_mean_4', 'mfcc_mean_5',\n",
       "       'mfcc_mean_6', 'mfcc_mean_7', 'mfcc_mean_8', 'mfcc_mean_9',\n",
       "       'mfcc_mean_10', 'mfcc_mean_11', 'mfcc_mean_12', 'mfcc_std_1',\n",
       "       'mfcc_std_2', 'mfcc_std_3', 'mfcc_std_4', 'mfcc_std_5', 'mfcc_std_6',\n",
       "       'mfcc_std_7', 'mfcc_std_8', 'mfcc_std_9', 'mfcc_std_10', 'mfcc_std_11',\n",
       "       'mfcc_std_12', 'Target'],\n",
       "      dtype='object')"
      ]
     },
     "execution_count": 4,
     "metadata": {},
     "output_type": "execute_result"
    }
   ],
   "source": [
    "df.columns"
   ]
  },
  {
   "cell_type": "markdown",
   "metadata": {},
   "source": [
    "<br/>\n",
    "We want to get best combination of genres, because using all genres produce bad accuracy. For each combination of genres, we tested the accuracy. Accuracy calculated with KNN classifier, but before fit to model, we normalize data using MinMaxScaler (created in learn package) and transform the data with PCA. Transformed data contains only 3 columns/features."
   ]
  },
  {
   "cell_type": "code",
   "execution_count": 5,
   "metadata": {},
   "outputs": [],
   "source": [
    "def test_accuracies(genres):\n",
    "    df_selected = df[df['Target'].isin(genres)]\n",
    "    X = df_selected.drop(columns=\"Target\")\n",
    "    y = df_selected[\"Target\"]\n",
    "    X_train, X_test, y_train, y_test = train_test_split(X, y, test_size=0.3, random_state=42)\n",
    "    \n",
    "    scaler = MinMaxScaler()\n",
    "    X_train = scaler.fit_transform(X_train)\n",
    "    X_test = scaler.transform(X_test)\n",
    "    \n",
    "    pca = PCA(n_components=3)\n",
    "    X_train = pca.fit_transform(X_train)\n",
    "    X_test = pca.transform(X_test)\n",
    "    \n",
    "    clf = NaiveBayes(k=len(genres))\n",
    "    clf.fit(X_train, y_train)\n",
    "    y_pred = clf.predict(X_test)\n",
    "    acc = round(accuracy(y_test, y_pred) * 100, 3)\n",
    "    print(\"Accuracy : {0}%,\\tgenres : {1}\".format(acc, \", \".join(genres)))"
   ]
  },
  {
   "cell_type": "markdown",
   "metadata": {},
   "source": [
    "<br/>\n",
    "Experiments for testing each combination of genres"
   ]
  },
  {
   "cell_type": "code",
   "execution_count": 6,
   "metadata": {},
   "outputs": [],
   "source": [
    "all_genres = np.array([\n",
    "    'blues', \n",
    "    'classical', \n",
    "    'country', \n",
    "    'disco', \n",
    "    'hiphop', \n",
    "    'jazz',\n",
    "    'metal', \n",
    "    'pop', \n",
    "    'reggae', \n",
    "    'rock'\n",
    "])"
   ]
  },
  {
   "cell_type": "code",
   "execution_count": 7,
   "metadata": {},
   "outputs": [
    {
     "ename": "TypeError",
     "evalue": "__init__() takes 1 positional argument but 2 were given",
     "output_type": "error",
     "traceback": [
      "\u001b[1;31m---------------------------------------------------------------------------\u001b[0m",
      "\u001b[1;31mTypeError\u001b[0m                                 Traceback (most recent call last)",
      "\u001b[1;32m<ipython-input-7-701531135f17>\u001b[0m in \u001b[0;36m<module>\u001b[1;34m\u001b[0m\n\u001b[0;32m     14\u001b[0m \u001b[1;33m\u001b[0m\u001b[0m\n\u001b[0;32m     15\u001b[0m \u001b[1;32mfor\u001b[0m \u001b[0mgenre\u001b[0m \u001b[1;32min\u001b[0m \u001b[0mgenres_combination\u001b[0m\u001b[1;33m:\u001b[0m\u001b[1;33m\u001b[0m\u001b[1;33m\u001b[0m\u001b[0m\n\u001b[1;32m---> 16\u001b[1;33m     \u001b[0mtest_accuracies\u001b[0m\u001b[1;33m(\u001b[0m\u001b[0mgenre\u001b[0m\u001b[1;33m)\u001b[0m\u001b[1;33m\u001b[0m\u001b[1;33m\u001b[0m\u001b[0m\n\u001b[0m",
      "\u001b[1;32m<ipython-input-5-815075c716f6>\u001b[0m in \u001b[0;36mtest_accuracies\u001b[1;34m(genres)\u001b[0m\n\u001b[0;32m     13\u001b[0m     \u001b[0mX_test\u001b[0m \u001b[1;33m=\u001b[0m \u001b[0mpca\u001b[0m\u001b[1;33m.\u001b[0m\u001b[0mtransform\u001b[0m\u001b[1;33m(\u001b[0m\u001b[0mX_test\u001b[0m\u001b[1;33m)\u001b[0m\u001b[1;33m\u001b[0m\u001b[1;33m\u001b[0m\u001b[0m\n\u001b[0;32m     14\u001b[0m \u001b[1;33m\u001b[0m\u001b[0m\n\u001b[1;32m---> 15\u001b[1;33m     \u001b[0mclf\u001b[0m \u001b[1;33m=\u001b[0m \u001b[0mNaiveBayes\u001b[0m\u001b[1;33m(\u001b[0m\u001b[1;33m(\u001b[0m\u001b[0mgenres\u001b[0m\u001b[1;33m)\u001b[0m\u001b[1;33m)\u001b[0m\u001b[1;33m\u001b[0m\u001b[1;33m\u001b[0m\u001b[0m\n\u001b[0m\u001b[0;32m     16\u001b[0m     \u001b[0mclf\u001b[0m\u001b[1;33m.\u001b[0m\u001b[0mfit\u001b[0m\u001b[1;33m(\u001b[0m\u001b[0mX_train\u001b[0m\u001b[1;33m,\u001b[0m \u001b[0my_train\u001b[0m\u001b[1;33m)\u001b[0m\u001b[1;33m\u001b[0m\u001b[1;33m\u001b[0m\u001b[0m\n\u001b[0;32m     17\u001b[0m     \u001b[0my_pred\u001b[0m \u001b[1;33m=\u001b[0m \u001b[0mclf\u001b[0m\u001b[1;33m.\u001b[0m\u001b[0mpredict\u001b[0m\u001b[1;33m(\u001b[0m\u001b[0mX_test\u001b[0m\u001b[1;33m)\u001b[0m\u001b[1;33m\u001b[0m\u001b[1;33m\u001b[0m\u001b[0m\n",
      "\u001b[1;31mTypeError\u001b[0m: __init__() takes 1 positional argument but 2 were given"
     ]
    }
   ],
   "source": [
    "genres_combination = [\n",
    "    list(all_genres[[0, 1, 2, 3, 4, 5, 6, 7, 8, 9]]),\n",
    "    list(all_genres[[0, 1, 2, 3, 4, 5, 6, 7, 8]]),\n",
    "    list(all_genres[[0, 1, 2, 3, 4, 5, 6, 7]]),\n",
    "    list(all_genres[[0, 1, 2, 3, 4, 5, 6]]),\n",
    "    list(all_genres[[0, 1, 2, 3, 4, 5]]),\n",
    "    list(all_genres[[0, 1, 2, 3, 5, 6]]),\n",
    "    list(all_genres[[1, 2, 4, 5, 6]]),\n",
    "    list(all_genres[[1, 2, 4, 6]]),\n",
    "    list(all_genres[[0, 1, 2, 5, 6, 7]]),\n",
    "    list(all_genres[[3, 4, 5, 7, 8, 9]]),\n",
    "    list(all_genres[[2, 3, 4, 5, 7, 8, 9]]),\n",
    "]\n",
    "\n",
    "for genre in genres_combination:\n",
    "    test_accuracies(genre)"
   ]
  },
  {
   "cell_type": "markdown",
   "metadata": {},
   "source": [
    "<br/>\n",
    "Best accuracy is when only using classical, country, hiphop, metal "
   ]
  },
  {
   "cell_type": "code",
   "execution_count": null,
   "metadata": {},
   "outputs": [],
   "source": [
    "df_final = df[df['Target'].isin(['classical', 'country', 'hiphop', 'metal'])]\n",
    "df_final.shape"
   ]
  },
  {
   "cell_type": "code",
   "execution_count": null,
   "metadata": {},
   "outputs": [],
   "source": [
    "df_final.to_csv('./data/final_genres.csv', index=False)"
   ]
  },
  {
   "cell_type": "code",
   "execution_count": null,
   "metadata": {},
   "outputs": [],
   "source": []
  }
 ],
 "metadata": {
  "kernelspec": {
   "display_name": "Python 3",
   "language": "python",
   "name": "python3"
  },
  "language_info": {
   "codemirror_mode": {
    "name": "ipython",
    "version": 3
   },
   "file_extension": ".py",
   "mimetype": "text/x-python",
   "name": "python",
   "nbconvert_exporter": "python",
   "pygments_lexer": "ipython3",
   "version": "3.7.6"
  }
 },
 "nbformat": 4,
 "nbformat_minor": 2
}
